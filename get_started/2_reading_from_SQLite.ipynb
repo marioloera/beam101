{
 "metadata": {
  "language_info": {
   "codemirror_mode": {
    "name": "ipython",
    "version": 3
   },
   "file_extension": ".py",
   "mimetype": "text/x-python",
   "name": "python",
   "nbconvert_exporter": "python",
   "pygments_lexer": "ipython3",
   "version": "3.8.8-final"
  },
  "orig_nbformat": 2,
  "kernelspec": {
   "name": "python3",
   "display_name": "Python 3",
   "language": "python"
  }
 },
 "nbformat": 4,
 "nbformat_minor": 2,
 "cells": [
  {
   "source": [
    "## Example: Reading from a SQLite database\n",
    "\n",
    "Lets begin by creating a small SQLite local database file.\n",
    "\n",
    "Run the _\"Creating the SQLite database\"_ cell to create a new SQLite3 database with the filename you choose. You can double-click it to see the source code if you want."
   ],
   "cell_type": "markdown",
   "metadata": {}
  },
  {
   "cell_type": "code",
   "execution_count": 1,
   "metadata": {},
   "outputs": [
    {
     "output_type": "stream",
     "name": "stdout",
     "text": [
      "(1, '🌕', '2017-12-03 15:47:00', 'Full Moon')\n(2, '🌗', '2017-12-10 07:51:00', 'Last Quarter')\n(3, '🌑', '2017-12-18 06:30:00', 'New Moon')\n(4, '🌓', '2017-12-26 09:20:00', 'First Quarter')\n(5, '🌕', '2018-01-02 02:24:00', 'Full Moon')\n(6, '🌗', '2018-01-08 22:25:00', 'Last Quarter')\n(7, '🌑', '2018-01-17 02:17:00', 'New Moon')\n(8, '🌓', '2018-01-24 22:20:00', 'First Quarter')\n(9, '🌕', '2018-01-31 13:27:00', 'Full Moon')\n"
     ]
    }
   ],
   "source": [
    "#@title Creating the SQLite database\n",
    "import sqlite3\n",
    "\n",
    "databse_file = \"db/moon-phases.db\" #@param {type:\"string\"}\n",
    "\n",
    "with sqlite3.connect(databse_file) as db:\n",
    "  cursor = db.cursor()\n",
    "\n",
    "  # Create the moon_phases table.\n",
    "  cursor.execute('''\n",
    "    CREATE TABLE IF NOT EXISTS moon_phases (\n",
    "      id INTEGER PRIMARY KEY,\n",
    "      phase_emoji TEXT NOT NULL,\n",
    "      peak_datetime DATETIME NOT NULL,\n",
    "      phase TEXT NOT NULL)''')\n",
    "\n",
    "  # Truncate the table if it's already populated.\n",
    "  cursor.execute('DELETE FROM moon_phases')\n",
    "\n",
    "  # Insert some sample data.\n",
    "  insert_moon_phase = 'INSERT INTO moon_phases(phase_emoji, peak_datetime, phase) VALUES(?, ?, ?)'\n",
    "  cursor.execute(insert_moon_phase, ('🌕', '2017-12-03 15:47:00', 'Full Moon'))\n",
    "  cursor.execute(insert_moon_phase, ('🌗', '2017-12-10 07:51:00', 'Last Quarter'))\n",
    "  cursor.execute(insert_moon_phase, ('🌑', '2017-12-18 06:30:00', 'New Moon'))\n",
    "  cursor.execute(insert_moon_phase, ('🌓', '2017-12-26 09:20:00', 'First Quarter'))\n",
    "  cursor.execute(insert_moon_phase, ('🌕', '2018-01-02 02:24:00', 'Full Moon'))\n",
    "  cursor.execute(insert_moon_phase, ('🌗', '2018-01-08 22:25:00', 'Last Quarter'))\n",
    "  cursor.execute(insert_moon_phase, ('🌑', '2018-01-17 02:17:00', 'New Moon'))\n",
    "  cursor.execute(insert_moon_phase, ('🌓', '2018-01-24 22:20:00', 'First Quarter'))\n",
    "  cursor.execute(insert_moon_phase, ('🌕', '2018-01-31 13:27:00', 'Full Moon'))\n",
    "\n",
    "  # Query for the data in the table to make sure it's populated.\n",
    "  cursor.execute('SELECT * FROM moon_phases')\n",
    "  for row in cursor.fetchall():\n",
    "    print(row)"
   ]
  },
  {
   "cell_type": "code",
   "execution_count": null,
   "metadata": {},
   "outputs": [],
   "source": []
  }
 ]
}