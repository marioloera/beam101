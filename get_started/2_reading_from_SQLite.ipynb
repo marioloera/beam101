{
 "metadata": {
  "language_info": {
   "codemirror_mode": {
    "name": "ipython",
    "version": 3
   },
   "file_extension": ".py",
   "mimetype": "text/x-python",
   "name": "python",
   "nbconvert_exporter": "python",
   "pygments_lexer": "ipython3",
   "version": "3.8.8-final"
  },
  "orig_nbformat": 2,
  "kernelspec": {
   "name": "python3",
   "display_name": "Python 3",
   "language": "python"
  }
 },
 "nbformat": 4,
 "nbformat_minor": 2,
 "cells": [
  {
   "source": [
    "## Example: Reading from a SQLite database\n",
    "\n",
    "Lets begin by creating a small SQLite local database file.\n",
    "\n",
    "Run the _\"Creating the SQLite database\"_ cell to create a new SQLite3 database with the filename you choose. You can double-click it to see the source code if you want."
   ],
   "cell_type": "markdown",
   "metadata": {}
  },
  {
   "cell_type": "code",
   "execution_count": null,
   "metadata": {},
   "outputs": [],
   "source": [
    "#@title Creating the SQLite database\n",
    "import sqlite3\n",
    "\n",
    "databse_file = \"db/moon-phases.db\" #@param {type:\"string\"}\n",
    "\n",
    "with sqlite3.connect(databse_file) as db:\n",
    "  cursor = db.cursor()\n",
    "\n",
    "  # Create the moon_phases table.\n",
    "  cursor.execute('''\n",
    "    CREATE TABLE IF NOT EXISTS moon_phases (\n",
    "      id INTEGER PRIMARY KEY,\n",
    "      phase_emoji TEXT NOT NULL,\n",
    "      peak_datetime DATETIME NOT NULL,\n",
    "      phase TEXT NOT NULL)''')\n",
    "\n",
    "  # Truncate the table if it's already populated.\n",
    "  cursor.execute('DELETE FROM moon_phases')\n",
    "\n",
    "  # Insert some sample data.\n",
    "  insert_moon_phase = 'INSERT INTO moon_phases(phase_emoji, peak_datetime, phase) VALUES(?, ?, ?)'\n",
    "  cursor.execute(insert_moon_phase, ('🌕', '2017-12-03 15:47:00', 'Full Moon'))\n",
    "  cursor.execute(insert_moon_phase, ('🌗', '2017-12-10 07:51:00', 'Last Quarter'))\n",
    "  cursor.execute(insert_moon_phase, ('🌑', '2017-12-18 06:30:00', 'New Moon'))\n",
    "  cursor.execute(insert_moon_phase, ('🌓', '2017-12-26 09:20:00', 'First Quarter'))\n",
    "  cursor.execute(insert_moon_phase, ('🌕', '2018-01-02 02:24:00', 'Full Moon'))\n",
    "  cursor.execute(insert_moon_phase, ('🌗', '2018-01-08 22:25:00', 'Last Quarter'))\n",
    "  cursor.execute(insert_moon_phase, ('🌑', '2018-01-17 02:17:00', 'New Moon'))\n",
    "  cursor.execute(insert_moon_phase, ('🌓', '2018-01-24 22:20:00', 'First Quarter'))\n",
    "  cursor.execute(insert_moon_phase, ('🌕', '2018-01-31 13:27:00', 'Full Moon'))\n",
    "\n",
    "  # Query for the data in the table to make sure it's populated.\n",
    "  cursor.execute('SELECT * FROM moon_phases')\n",
    "  for row in cursor.fetchall():\n",
    "    print(row)"
   ]
  },
  {
   "source": [
    "We could use a `FlatMap` transform to receive a SQL query and `yield` each result row, but that would mean creating a new database connection for each query. If we generated a large number of queries, creating that many connections could be a bottleneck.\n",
    "\n",
    "It would be nice to create the database connection only once for each worker, and every query could use the same connection if needed.\n",
    "\n",
    "We can use a\n",
    "[custom `DoFn` transform](https://beam.apache.org/documentation/transforms/python/elementwise/pardo/#example-3-pardo-with-dofn-methods)\n",
    "for this. It allows us to open and close resources, like the database connection, only _once_ per `DoFn` _instance_ by using the `setup` and `teardown` methods.\n",
    "\n",
    "> ℹ️ It should be safe to _read_ from a database with multiple concurrent processes using the same connection, but only one process should be _writing_ at once."
   ],
   "cell_type": "markdown",
   "metadata": {}
  },
  {
   "cell_type": "code",
   "execution_count": 26,
   "metadata": {},
   "outputs": [
    {
     "output_type": "stream",
     "name": "stdout",
     "text": [
      "{'phase_emoji': '🌕', 'peak_datetime': '2018-01-02 02:24:00', 'phase': 'Full Moon'}\n{'phase_emoji': '🌕', 'peak_datetime': '2018-01-31 13:27:00', 'phase': 'Full Moon'}\n{'phase_emoji': '🌕', 'phase': 'Full Moon'}\n{'phase_emoji': '🌕', 'phase': 'Full Moon'}\n{'phase_emoji': '🌕', 'phase': 'Full Moon'}\n"
     ]
    }
   ],
   "source": [
    "import apache_beam as beam\n",
    "import sqlite3\n",
    "\n",
    "class SQLiteSelect(beam.DoFn):\n",
    "  def __init__(self, database_file):\n",
    "    self.database_file = database_file\n",
    "    self.connection = None\n",
    "\n",
    "  def setup(self):\n",
    "    self.connection = sqlite3.connect(self.database_file)\n",
    "\n",
    "  def process(self, query):\n",
    "    table, columns = query\n",
    "    cursor = self.connection.cursor()\n",
    "    cursor.execute(f\"SELECT {','.join(columns)} FROM {table}\")\n",
    "    for row in cursor.fetchall():\n",
    "      yield dict(zip(columns, row))\n",
    "\n",
    "  def teardown(self):\n",
    "    self.connection.close()\n",
    "\n",
    "class SelectFromSQLite(beam.PTransform):\n",
    "  def __init__(self, database_file, queries):\n",
    "    self.database_file = database_file\n",
    "    self.queries = queries\n",
    "\n",
    "  def expand(self, pcollection):\n",
    "    return (\n",
    "        pcollection\n",
    "        | 'Create None' >> beam.Create(queries)\n",
    "        | 'SQLite SELECT' >> beam.ParDo(SQLiteSelect(self.database_file))\n",
    "    )\n",
    "\n",
    "database_file = 'db/moon-phases.db'\n",
    "queries = [\n",
    "    # (table_name, [column1, column2, ...])\n",
    "    ('moon_phases', ['phase_emoji', 'peak_datetime', 'phase']),\n",
    "    ('moon_phases', ['phase_emoji', 'phase']),\n",
    "]\n",
    "with beam.Pipeline() as pipeline:\n",
    "  (\n",
    "      pipeline\n",
    "      | 'Read from SQLite' >> SelectFromSQLite(database_file, queries)\n",
    "      | 'Keep only full moon' >> beam.Filter(lambda row: 'Full' in row.get('phase'))\n",
    "      | 'Keep only 2018 or nulls' >> beam.Filter(lambda row: '2018' in row.get('peak_datetime', '2018'))\n",
    "      | 'Print rows' >> beam.Map(print)\n",
    "  )"
   ]
  }
 ]
}