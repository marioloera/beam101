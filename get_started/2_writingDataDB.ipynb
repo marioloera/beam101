{
 "metadata": {
  "language_info": {
   "codemirror_mode": {
    "name": "ipython",
    "version": 3
   },
   "file_extension": ".py",
   "mimetype": "text/x-python",
   "name": "python",
   "nbconvert_exporter": "python",
   "pygments_lexer": "ipython3",
   "version": "3.8.8-final"
  },
  "orig_nbformat": 2,
  "kernelspec": {
   "name": "python3",
   "display_name": "Python 3",
   "language": "python"
  }
 },
 "nbformat": 4,
 "nbformat_minor": 2,
 "cells": [
  {
   "source": [],
   "cell_type": "markdown",
   "metadata": {}
  },
  {
   "source": [
    "# Writing data\n",
    "\n",
    "Your might want to write your data in various output formats. Take a look at the\n",
    "[Built-in I/O Transforms](https://beam.apache.org/documentation/io/built-in)\n",
    "page for a list of all the available I/O transforms in Beam.\n",
    "\n",
    "If none of those work for you, you might need to create your own output transform.\n",
    "\n",
    "> ℹ️ For a more in-depth guide, take a look at the\n",
    "[Developing a new I/O connector](https://beam.apache.org/documentation/io/developing-io-overview) page.\n",
    "\n",
    "\n",
    "## Creating an output transform\n",
    "\n",
    "The most straightforward way to write data would be to use a `Map` transform to write each element into our desired output format. In most cases, however, this would result in a lot of overhead creating, connecting to, and/or deleting resources.\n",
    "\n",
    "Instead, most data services are optimized to write _batches_ of elements at a time. Batch writes only connects to the service once, and can load many elements at a time.\n",
    "\n",
    "Here, we discuss two common ways of batching elements for optimized writes: _fixed-sized batches_, and\n",
    "_[windows](https://beam.apache.org/documentation/programming-guide/#windowing)\n",
    "of elements_."
   ],
   "cell_type": "markdown",
   "metadata": {}
  },
  {
   "cell_type": "code",
   "execution_count": null,
   "metadata": {},
   "outputs": [],
   "source": [
    "x = 3 * a\n",
    "print(x)"
   ]
  },
  {
   "source": [
    "# last cell, dummy cell"
   ],
   "cell_type": "code",
   "metadata": {},
   "execution_count": null,
   "outputs": []
  }
 ]
}